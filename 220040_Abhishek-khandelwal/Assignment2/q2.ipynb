import matplotlib.pyplot as plt
names = ['Vijay', 'Raaghav', 'Rohit', 'Virat']
marks = [78, 30, 48, 99]
plt.bar(names, marks)
plt.xlabel('names')
plt.ylabel('marks')
plt.title('Bar Graph showing marks')
plt.show()
