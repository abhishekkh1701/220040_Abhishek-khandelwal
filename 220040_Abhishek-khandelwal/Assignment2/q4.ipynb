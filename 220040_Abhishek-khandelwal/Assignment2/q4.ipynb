array = [1,2,5,3]
sum=0
for x in array:
 sum+=x
print("sum of array elements:", sum)
product =1
for x in array:
 product*=x
print("product of array elements:", product)
