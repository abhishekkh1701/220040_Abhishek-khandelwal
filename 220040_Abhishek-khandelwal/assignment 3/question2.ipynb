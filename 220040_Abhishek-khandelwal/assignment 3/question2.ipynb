import pandas as pd
df = pd.read_csv('World Press Index 2021.csv')
y = df['Global Score 2021'].min()
z = df['Global Score 2019'].max()
print("Best GlobalScore of 2019 :", z)
print("Worst GlobalScore of 2021 :", y)
import matplotlib.pyplot as plt
a = ['Best GlobalScore of 2019','Worst Global Score of 2021']
b = [z,y]
fig, ax = plt.subplots()
ax.bar(a,b)
ax.set_title('World Press Index')
ax.set_ylabel('Scores')
plt.show()

